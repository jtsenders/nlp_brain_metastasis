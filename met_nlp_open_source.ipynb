{
 "cells": [
  {
   "cell_type": "markdown",
   "metadata": {},
   "source": [
    "# 1. Data import and general preprocessing"
   ]
  },
  {
   "cell_type": "markdown",
   "metadata": {},
   "source": [
    "### 1A. Import data"
   ]
  },
  {
   "cell_type": "code",
   "execution_count": null,
   "metadata": {},
   "outputs": [],
   "source": [
    "import pandas as pd\n",
    "import os\n",
    "\n",
    "# Set directories\n",
    "source_dir = ### Insert source directory ###\n",
    "\n",
    "# Import Excel file\n",
    "df = pd.read_excel(os.path.join(source_dir,'final_dataset.xlsx'))\n",
    "\n",
    "# Drop category 2 (not sure), and 3 (not met)\n",
    "df = df[(df['Group'] == 1) | (df['Group'] == 0)]\n",
    "df.head(2)"
   ]
  },
  {
   "cell_type": "markdown",
   "metadata": {},
   "source": [
    "### 1B. Remove uneccesary patterns"
   ]
  },
  {
   "cell_type": "code",
   "execution_count": null,
   "metadata": {},
   "outputs": [],
   "source": [
    "import re\n",
    "\n",
    "def preprocessor(text):\n",
    "    # Remove newlines\n",
    "    text = text.replace(r'\\n', ' ')\n",
    "    \n",
    "    # Remove date\n",
    "    date_pattern = r'[0-9]{1,2}[-/][0-9]{1,2}[-/][0-9]{2,}'\n",
    "    text = re.sub(date_pattern, ' ', text.lower())\n",
    "    \n",
    "    # Remove whitespace\n",
    "    text = ' '.join(text.split())\n",
    "    \n",
    "    # Remove punctution, keep decimal points\n",
    "    text = re.sub(r'[\\W]+(?!\\d)', ' ', text)\n",
    "    \n",
    "    # Remove the signature at the end of the report              \n",
    "    \n",
    "    if text.find(' i the teaching physician') != -1:\n",
    "        body_pattern = re.compile(r'(.*) (?=i the teaching physician)')\n",
    "        matched_text = body_pattern.search(text).group(1)\n",
    "        \n",
    "    elif text.find(' end of impression') != -1:\n",
    "        body_pattern = re.compile(r'(.*) (?=end of impression)')\n",
    "        matched_text = body_pattern.search(text).group(1)\n",
    "    \n",
    "    elif text.find(' radiologists signatures') != -1:\n",
    "        body_pattern = re.compile(r'(.*) (?=radiologists signatures)')\n",
    "        \n",
    "        matched_text = body_pattern.search(text).group(1)\n",
    "    \n",
    "    else:\n",
    "        matched_text = text\n",
    "        \n",
    "    return matched_text\n",
    "\n",
    "df['cleaned_report'] = df['raw_report'].apply(preprocessor)\n",
    "df.head(2)"
   ]
  },
  {
   "cell_type": "markdown",
   "metadata": {},
   "source": [
    "### 1C. Remove stop words"
   ]
  },
  {
   "cell_type": "code",
   "execution_count": null,
   "metadata": {},
   "outputs": [],
   "source": [
    "from nltk.corpus import stopwords\n",
    "import nltk\n",
    "\n",
    "nltk.download('stopwords')\n",
    "\n",
    "stop_words_english = stopwords.words('english')\n",
    "\n",
    "stop_words_modified = [w for w in stop_words_english if w not in ['no', 'not']]\n",
    "\n",
    "def remove_words(clean_report): \n",
    "    clean_report_words = clean_report.split()\n",
    "    stripped_report_words  = [word for word in clean_report_words if word.lower() not in stop_words_modified]\n",
    "    stripped_report_text = ' '.join(stripped_report_words)\n",
    "    return stripped_report_text\n",
    "\n",
    "df['stripped_report'] = df['cleaned_report'].apply(remove_words)\n",
    "df.head(2)"
   ]
  },
  {
   "cell_type": "markdown",
   "metadata": {},
   "source": [
    "### 1D. Stemming"
   ]
  },
  {
   "cell_type": "code",
   "execution_count": null,
   "metadata": {},
   "outputs": [],
   "source": [
    "from nltk.stem.porter import PorterStemmer\n",
    "\n",
    "porter = PorterStemmer()\n",
    "\n",
    "def porter_stemming(text):\n",
    "    stemmed_report_words = [porter.stem(word) for word in text.split()]\n",
    "    stemmed_report_text = ' '.join(stemmed_report_words)\n",
    "    return stemmed_report_text\n",
    "\n",
    "df['stemmed_report'] = df['stripped_report'].apply(porter_stemming)\n",
    "df.head(2)"
   ]
  },
  {
   "cell_type": "markdown",
   "metadata": {},
   "source": [
    "### 1E. Train Validation Test Split"
   ]
  },
  {
   "cell_type": "code",
   "execution_count": null,
   "metadata": {},
   "outputs": [],
   "source": [
    "import pandas as pd\n",
    "import os\n",
    "import numpy as np\n",
    "\n",
    "n_patients = len(df)\n",
    "\n",
    "df = df.sample(frac = 1)\n",
    "\n",
    "df['cohort'] = np.random.choice(['train','test'], size=n_patients, p=[0.8,.2])\n",
    "df.head(2)\n",
    "\n",
    "target_dir = ### Insert directory for preprocessed reports ###\n",
    "df.to_excel(os.path.join(target_dir, 'preprocessed_reports.xlsx')) "
   ]
  },
  {
   "cell_type": "markdown",
   "metadata": {},
   "source": [
    "# 2. Preprocessing and hyperparameter tuning for all bag-of-words models"
   ]
  },
  {
   "cell_type": "markdown",
   "metadata": {},
   "source": [
    "### 2A. Load Preprocessed Reports "
   ]
  },
  {
   "cell_type": "code",
   "execution_count": null,
   "metadata": {},
   "outputs": [],
   "source": [
    "import pandas as pd\n",
    "import os\n",
    "\n",
    "source_dir = ### Insert directory for preprocessed reports ###\n",
    "df = pd.read_excel(os.path.join(source_dir, 'preprocessed_reports.xlsx')) \n",
    "\n",
    "df.head(2)"
   ]
  },
  {
   "cell_type": "markdown",
   "metadata": {},
   "source": [
    "### 2B. Check Reports"
   ]
  },
  {
   "cell_type": "code",
   "execution_count": null,
   "metadata": {},
   "outputs": [],
   "source": [
    "from numpy import asarray\n",
    "\n",
    "df['raw_report'][2] #Example Report Raw\n",
    "df['cleaned_report'][2] #Example Report Clean\n",
    "df['stripped_report'][2] #Example Report Stripped\n",
    "df['stemmed_report'][2] #Example Report Stemmed"
   ]
  },
  {
   "cell_type": "markdown",
   "metadata": {},
   "source": [
    "### 2C. TFIDF-Vectorization"
   ]
  },
  {
   "cell_type": "code",
   "execution_count": null,
   "metadata": {},
   "outputs": [],
   "source": [
    "from sklearn.feature_extraction.text import TfidfVectorizer\n",
    "import scipy.sparse as sp\n",
    "from numpy import asarray\n",
    "\n",
    "word_vectorizer = TfidfVectorizer(\n",
    "    ngram_range=(1,1),\n",
    "    max_features=1000)\n",
    "word_vectorizer.fit(df['stemmed_report'])\n",
    "x_train = word_vectorizer.transform(df['stemmed_report'][(df['cohort'] == 'train')])\n",
    "x_test = word_vectorizer.transform(df['stemmed_report'][(df['cohort'] == 'test')])\n",
    "y_train = asarray(df['Group'][(df['cohort'] == 'train')])\n",
    "y_test = asarray(df['Group'][(df['cohort'] == 'test')])\n",
    "\n",
    "print('Shape x_train', x_train.shape)\n",
    "print('Shape x_test', x_test.shape)\n",
    "print('Shape y_train', y_train.shape)\n",
    "print('Shape y_test', y_test.shape)"
   ]
  },
  {
   "cell_type": "markdown",
   "metadata": {},
   "source": [
    "### 2D. Final logistic and LASSO regression models"
   ]
  },
  {
   "cell_type": "code",
   "execution_count": null,
   "metadata": {},
   "outputs": [],
   "source": [
    "from sklearn.model_selection import cross_val_score, GridSearchCV, StratifiedKFold\n",
    "from sklearn.linear_model import LogisticRegression\n",
    "from sklearn.linear_model import Lasso\n",
    "from sklearn import linear_model\n",
    "import numpy as np\n",
    "\n",
    "cv_score_lr = np.mean(cross_val_score(\n",
    "    LogisticRegression(C=0.1, solver='sag'), \n",
    "    x_train, y_train, cv=5, scoring='roc_auc'))\n",
    "\n",
    "parameters = {\"penalty\":['l1','l2'],\n",
    "             \"C\": [32, 16, 8, 4, 3.5, 3, 2.5, 2, 1.5, 1, 0.5, 0.25, 0.1, 0.05, 0.025, 0.01],\n",
    "             \"max_iter\":[200]}\n",
    "\n",
    "grid_search = GridSearchCV(LogisticRegression(), param_grid=parameters, scoring='neg_log_loss', cv=StratifiedKFold(5))\n",
    "grid_search.fit(x_train, y_train)\n",
    "\n",
    "best_params = grid_search.best_estimator_.get_params()\n",
    "print(best_params)\n",
    "\n",
    "cv_score_lasso = np.mean(cross_val_score(\n",
    "    LogisticRegression(**best_params), \n",
    "    x_train, y_train, cv=5, scoring='roc_auc'))\n",
    "\n",
    "model = LogisticRegression(C=0.1, solver='sag')\n",
    "model.fit(x_train, y_train)\n",
    "\n",
    "target_dir = ### Insert directory bag-of-words models ###\n",
    "filename = 'logisticregression.sav'\n",
    "pickle.dump(model, open(os.path.join(target_dir, filename), 'wb'))\n",
    "\n",
    "model = LogisticRegression(**best_params)\n",
    "model.fit(x_train, y_train)\n",
    "\n",
    "target_dir = ### Insert directory bag-of-words models ###\n",
    "filename = 'lassoregression.sav'\n",
    "pickle.dump(model, open(os.path.join(target_dir, filename), 'wb'))\n",
    "\n",
    "print('The CV score for logistic regression is:', cv_score_lr)\n",
    "print('The CV score for lasso regression is:', cv_score_lasso)"
   ]
  },
  {
   "cell_type": "markdown",
   "metadata": {},
   "source": [
    "### 2E. Define mlp model "
   ]
  },
  {
   "cell_type": "code",
   "execution_count": null,
   "metadata": {},
   "outputs": [],
   "source": [
    "def get_mlp_model(l1,l2, layers, top_nodes):\n",
    "    nadam = optimizers.Nadam(lr=0.0001)\n",
    "    model = Sequential()\n",
    "    if layers == 1:\n",
    "        model.add(Dense(top_nodes, activation='relu',  input_dim=1000,  kernel_regularizer=regularizers.l1_l2(l1,l2)))\n",
    "    elif layers == 2:\n",
    "        model.add(Dense(top_nodes*2, activation='relu',input_dim=1000,kernel_regularizer=regularizers.l1_l2(l1,l2)))\n",
    "        model.add(Dense(top_nodes, activation='relu', kernel_regularizer=regularizers.l2(l2)))\n",
    "    elif layers == 3:\n",
    "        model.add(Dense(top_nodes*4, activation='relu',input_dim=1000,kernel_regularizer=regularizers.l1_l2(l1,l2)))\n",
    "        model.add(Dense(top_nodes*2, activation='relu',kernel_regularizer=regularizers.l1_l2(l1,l2)))\n",
    "        model.add(Dense(top_nodes, activation='relu', kernel_regularizer=regularizers.l2(l2)))\n",
    "    model.add(Dense(1, activation='sigmoid'))\n",
    "    model.compile(optimizer=nadam, loss='binary_crossentropy', metrics=['acc'])\n",
    "    return model"
   ]
  },
  {
   "cell_type": "markdown",
   "metadata": {},
   "source": [
    "### 2F. Train final MLP model"
   ]
  },
  {
   "cell_type": "code",
   "execution_count": null,
   "metadata": {},
   "outputs": [],
   "source": [
    "model = get_mlp_model(l1=0, l2=0, layers=1, top_nodes=4)\n",
    "    \n",
    "history = model.fit(x_train, y_train,\n",
    "    epochs=422,\n",
    "    batch_size=batch_size,\n",
    "    verbose = 2)\n",
    "\n",
    "target_dir = ### Insert directory bag-of-words models ###\n",
    "model.save(os.path.join(target_dir, 'mlp.h5'))"
   ]
  },
  {
   "cell_type": "markdown",
   "metadata": {},
   "source": [
    "# 3. Preprocessing and hyperparameter tuning for all sequence-based models"
   ]
  },
  {
   "cell_type": "markdown",
   "metadata": {},
   "source": [
    "### 3A. Load data"
   ]
  },
  {
   "cell_type": "code",
   "execution_count": null,
   "metadata": {},
   "outputs": [],
   "source": [
    "import pandas as pd\n",
    "import os\n",
    "\n",
    "source_dir = ### Insert directory preprocessed reports ###\n",
    "df = pd.read_excel(os.path.join(source_dir, 'preprocessed_reports.xlsx')) "
   ]
  },
  {
   "cell_type": "markdown",
   "metadata": {},
   "source": [
    "### 3B. Tokenization and vectoriztion "
   ]
  },
  {
   "cell_type": "code",
   "execution_count": null,
   "metadata": {},
   "outputs": [],
   "source": [
    "from keras.preprocessing.text import Tokenizer\n",
    "from keras.preprocessing.sequence import pad_sequences\n",
    "import numpy as np\n",
    "\n",
    "maxlen = 700\n",
    "max_words = 1000\n",
    "\n",
    "tokenizer = Tokenizer(num_words=max_words)\n",
    "tokenizer.fit_on_texts(df['stemmed_report'])\n",
    "sequences = tokenizer.texts_to_sequences(df['stemmed_report'])\n",
    "\n",
    "word_index = tokenizer.word_index\n",
    "\n",
    "target_dir = ### Insert directory word index ###\n",
    "np.save(os.path.join(target_dir, 'word_index.npy'), word_index) \n",
    "\n",
    "df['vectorized_report'] = sequences\n",
    "df.head(2)"
   ]
  },
  {
   "cell_type": "markdown",
   "metadata": {},
   "source": [
    "### 3C. Zero-padding and transformation to arrays"
   ]
  },
  {
   "cell_type": "code",
   "execution_count": null,
   "metadata": {},
   "outputs": [],
   "source": [
    "from numpy import array\n",
    "from keras import preprocessing\n",
    "\n",
    "max_len = 700\n",
    "\n",
    "array_train = array(list(df['vectorized_report'][(df['cohort'] == 'train')]))\n",
    "array_test = array(list(df['vectorized_report'][(df['cohort'] == 'test')]))\n",
    "y_train = array(df['Group'][(df['cohort'] == 'train')])\n",
    "y_test = array(df['Group'][(df['cohort'] == 'test')])\n",
    "\n",
    "x_train = preprocessing.sequence.pad_sequences(array_train, maxlen=max_len)\n",
    "x_test = preprocessing.sequence.pad_sequences(array_test, maxlen=max_len)\n",
    "\n",
    "print('Shape x_train', x_train.shape)\n",
    "print('Shape x_test', x_test.shape)\n",
    "print('Shape y_train', y_train.shape)\n",
    "print('Shape y_test', y_test.shape)"
   ]
  },
  {
   "cell_type": "markdown",
   "metadata": {},
   "source": [
    "### 3D. Train  embedding layer"
   ]
  },
  {
   "cell_type": "code",
   "execution_count": null,
   "metadata": {},
   "outputs": [],
   "source": [
    "from keras.models import Sequential\n",
    "from keras import optimizers\n",
    "from keras import layers\n",
    "from keras.layers import Embedding, Flatten, Dense, Input, LSTM, Conv1D, GRU\n",
    "\n",
    "max_words = 1000\n",
    "embedding_dim = 8\n",
    "max_len = 700\n",
    "\n",
    "nadam = optimizers.Nadam(lr=0.0001)\n",
    "model = Sequential()\n",
    "model.add(Embedding(max_words, embedding_dim, input_length=max_len))\n",
    "model.add(Flatten())\n",
    "model.add(layers.Dense(1, activation='sigmoid'))\n",
    "model.compile(optimizer=nadam, loss='binary_crossentropy', metrics=['acc'])\n",
    "\n",
    "history = model.fit(x_train, y_train,\n",
    "    epochs=200,\n",
    "    batch_size=32,\n",
    "    verbose = 2)\n",
    "\n",
    "target_dir = ### Insert directory embedding layer ###\n",
    "\n",
    "model.save(os.path.join(target_dir, 'embedding_model.h5'))\n"
   ]
  },
  {
   "cell_type": "markdown",
   "metadata": {},
   "source": [
    "### 3E. Load embedding layer"
   ]
  },
  {
   "cell_type": "code",
   "execution_count": null,
   "metadata": {},
   "outputs": [],
   "source": [
    "from keras.models import load_model\n",
    "import os\n",
    "\n",
    "source_dir = ### Insert directory embedding layer ###\n",
    "embedding_model = load_model(os.path.join(source_dir, 'embedding_model.h5'))\n",
    "embedding_matrix = embedding_model.layers[0].get_weights()[0]"
   ]
  },
  {
   "cell_type": "markdown",
   "metadata": {},
   "source": [
    "### 3F. Define neural network architectures with optimal hyperparameter settings"
   ]
  },
  {
   "cell_type": "code",
   "execution_count": null,
   "metadata": {},
   "outputs": [],
   "source": [
    "def get_model(architecture):\n",
    "    if architecture == 'lstm':\n",
    "        epochs = 242\n",
    "        nadam = optimizers.Nadam(lr=0.0005)\n",
    "        model = Sequential()\n",
    "        model.add(Embedding(max_words, embedding_dim, input_length=max_len))\n",
    "        model.add(LSTM(32))\n",
    "        model.add(Dense(1, activation='sigmoid'))\n",
    "        model.layers[0].set_weights([embedding_matrix])\n",
    "        model.layers[0].trainable = False\n",
    "        model.compile(optimizer=nadam, loss='binary_crossentropy', metrics=['acc'])\n",
    "    elif architecture == 'gru':\n",
    "        epochs = 133\n",
    "        nadam = optimizers.Nadam(lr=0.001)\n",
    "        model = Sequential()\n",
    "        model.add(Embedding(max_words, embedding_dim, input_length=max_len))\n",
    "        model.add(GRU(32))\n",
    "        model.add(Dense(1, activation='sigmoid'))\n",
    "        model.layers[0].set_weights([embedding_matrix])\n",
    "        model.layers[0].trainable = False\n",
    "        model.compile(optimizer=nadam, loss='binary_crossentropy', metrics=['acc'])\n",
    "    elif architecture == 'conv1d':\n",
    "        epochs = 260\n",
    "        nadam = optimizers.Nadam(lr=0.0001)\n",
    "        model = Sequential()\n",
    "        model.add(Embedding(max_words, embedding_dim, input_length=max_len))\n",
    "        model.add(layers.Conv1D(8, 5, activation='relu'))\n",
    "        model.add(layers.MaxPooling1D(5))\n",
    "        model.add(layers.Conv1D(16, 5, activation='relu'))\n",
    "        model.add(layers.MaxPooling1D(5))\n",
    "        model.add(layers.Conv1D(32, 5, activation='relu'))\n",
    "        model.add(layers.GlobalMaxPooling1D())\n",
    "        model.add(layers.Dense(1, activation='sigmoid'))\n",
    "        model.layers[0].set_weights([embedding_matrix])\n",
    "        model.layers[0].trainable = False\n",
    "        model.compile(optimizer=nadam, loss='binary_crossentropy', metrics=['acc'])\n",
    "    return model, epochs"
   ]
  },
  {
   "cell_type": "markdown",
   "metadata": {},
   "source": [
    "### 3G. Train final models"
   ]
  },
  {
   "cell_type": "code",
   "execution_count": null,
   "metadata": {},
   "outputs": [],
   "source": [
    "# Train final models\n",
    "from keras import regularizers\n",
    "from keras.models import Sequential\n",
    "from keras.layers import Flatten, Dense, Embedding\n",
    "from sklearn.model_selection import train_test_split, KFold\n",
    "from sklearn.metrics import roc_auc_score\n",
    "import numpy as np\n",
    "import pandas as pd\n",
    "from keras.models import load_model\n",
    "from keras.layers import Embedding, Flatten, Dense, Input, LSTM, Conv1D, GRU\n",
    "\n",
    "max_words = 1000\n",
    "embedding_dim = 8\n",
    "max_len = 700\n",
    "batch_size = 32\n",
    "\n",
    "target_dir = ### Insert directory sequence based models ###\n",
    "\n",
    "for architecture in ['lstm','gru', 'conv1d']:\n",
    "    \n",
    "    print(\"Training...\", architecture)\n",
    "    \n",
    "    model, epochs = get_model(architecture = architecture)  \n",
    "    \n",
    "    history = model.fit(x_train, y_train,\n",
    "                epochs=epochs,\n",
    "                batch_size=batch_size,\n",
    "                verbose = 2)\n",
    "    \n",
    "    model.save(os.path.join(target_dir, architecture + '.h5'))\n",
    "    print(\"Saved\", architecture)\n",
    "    print(\"---\")"
   ]
  },
  {
   "cell_type": "markdown",
   "metadata": {},
   "source": [
    "# 4. Final evaluation"
   ]
  },
  {
   "cell_type": "markdown",
   "metadata": {},
   "source": [
    "### 4A. Load all data"
   ]
  },
  {
   "cell_type": "code",
   "execution_count": null,
   "metadata": {},
   "outputs": [],
   "source": [
    "import pandas as pd\n",
    "import os\n",
    "\n",
    "source_dir = ### Insert directory preprocessed reports ###\n",
    "df = pd.read_excel(os.path.join(source_dir, 'preprocessed_reports.xlsx')) \n",
    "\n",
    "df.head(2)"
   ]
  },
  {
   "cell_type": "markdown",
   "metadata": {},
   "source": [
    "### 4B. Preprocess hold-out test set"
   ]
  },
  {
   "cell_type": "code",
   "execution_count": null,
   "metadata": {},
   "outputs": [],
   "source": [
    "from sklearn.feature_extraction.text import TfidfVectorizer\n",
    "import scipy.sparse as sp\n",
    "from numpy import asarray\n",
    "from keras.preprocessing.text import Tokenizer\n",
    "from keras.preprocessing.sequence import pad_sequences\n",
    "from numpy import array\n",
    "from keras import preprocessing\n",
    "import numpy as np\n",
    "from keras.models import load_model\n",
    "from keras import optimizers\n",
    "from keras.models import Sequential\n",
    "from keras.layers import Embedding, Flatten, Dense, Input, LSTM, Conv1D\n",
    "from keras import layers\n",
    "\n",
    "# Preprocessing bow models\n",
    "print('Preprocessing bag of words models...')\n",
    "word_vectorizer = TfidfVectorizer(\n",
    "    ngram_range=(1,1),\n",
    "    max_features=1000)\n",
    "word_vectorizer.fit(df['stemmed_report'])\n",
    "x_train_bow = word_vectorizer.transform(df['stemmed_report'][(df['cohort'] == 'train')])\n",
    "x_test_bow = word_vectorizer.transform(df['stemmed_report'][(df['cohort'] == 'test')])\n",
    "y_train = asarray(df['Group'][(df['cohort'] == 'train')])\n",
    "y_test = asarray(df['Group'][(df['cohort'] == 'test')])\n",
    "\n",
    "# Preprocessing sequence based models\n",
    "print('Preprocessing sequence based moddels models...')\n",
    "max_len = 700\n",
    "max_words = 1000\n",
    "embedding_dim = 8\n",
    "\n",
    "tokenizer = Tokenizer(num_words=max_words)\n",
    "tokenizer.fit_on_texts(df['stemmed_report'])\n",
    "sequences = tokenizer.texts_to_sequences(df['stemmed_report'])\n",
    "\n",
    "word_index = tokenizer.word_index\n",
    "\n",
    "target_dir = ### Insert directory word index ###\n",
    "np.save(os.path.join(target_dir, 'word_index.npy'), word_index) \n",
    "\n",
    "df['vectorized_report'] = sequences\n",
    "\n",
    "array_train = array(list(df['vectorized_report'][(df['cohort'] == 'train')]))\n",
    "array_test = array(list(df['vectorized_report'][(df['cohort'] == 'test')]))\n",
    "\n",
    "x_train_seq = preprocessing.sequence.pad_sequences(array_train, maxlen=max_len)\n",
    "x_test_seq = preprocessing.sequence.pad_sequences(array_test, maxlen=max_len)\n",
    "\n",
    "source_dir = ### Insert directory embedding layer ###\n",
    "embedding_model = load_model(os.path.join(source_dir, 'embedding_model.h5'))\n",
    "embedding_matrix = embedding_model.layers[0].get_weights()[0]\n",
    "\n",
    "print('')\n",
    "print('Shape x_train_bow', x_train_bow.shape)\n",
    "print('Shape x_test_bow', x_test_bow.shape)\n",
    "print('Shape x_train_seq', x_train_seq.shape)\n",
    "print('Shape x_test_seq', x_test_seq.shape)\n",
    "print('Shape y_train', y_train.shape)\n",
    "print('Shape y_test', y_test.shape)"
   ]
  },
  {
   "cell_type": "markdown",
   "metadata": {},
   "source": [
    "### 4C. Load all models"
   ]
  },
  {
   "cell_type": "code",
   "execution_count": null,
   "metadata": {},
   "outputs": [],
   "source": [
    "from keras.models import load_model\n",
    "import pickle\n",
    "\n",
    "import os\n",
    "\n",
    "source_dir_bow = ### Insert directory bag-of-words models ###\n",
    "source_dir_seq = ### Insert directory sequence-based models ###\n",
    "\n",
    "lr_model = pickle.load(open(os.path.join(source_dir_bow, 'logisticregression.sav'), 'rb'))\n",
    "lasso_model = pickle.load(open(os.path.join(source_dir_bow, 'lassoregression.sav'), 'rb'))\n",
    "mlp_model = load_model(os.path.join(source_dir_bow,'mlp.h5'))\n",
    "lstm_model = load_model(os.path.join(source_dir_seq,'lstm.h5'))\n",
    "gru_model = load_model(os.path.join(source_dir_seq,'gru.h5'))\n",
    "conv_model = load_model(os.path.join(source_dir_seq,'conv1d.h5'))"
   ]
  },
  {
   "cell_type": "markdown",
   "metadata": {},
   "source": [
    "### 4D. Compute predicted probabilities and outcome classes "
   ]
  },
  {
   "cell_type": "code",
   "execution_count": null,
   "metadata": {},
   "outputs": [],
   "source": [
    "import os\n",
    "import pandas as pd\n",
    "\n",
    "output_dir = ### Insert directory for dataframe with predicted values ###\n",
    "\n",
    "df_test = df[['PID','Group']][(df['cohort'] == 'test')]\n",
    "df_test['prob_lr'] = lr_model.predict_proba(x_test_bow)[:,1]\n",
    "df_test['prob_lasso'] = lasso_model.predict_proba(x_test_bow)[:,1]\n",
    "df_test['prob_mlp'] = mlp_model.predict_proba(x_test_bow)\n",
    "df_test['prob_lstm'] = lstm_model.predict_proba(x_test_seq)\n",
    "df_test['prob_gru'] = gru_model.predict_proba(x_test_seq)\n",
    "df_test['prob_conv'] = conv_model.predict_proba(x_test_seq)\n",
    "df_test['pred_lr'] = lr_model.predict(x_test_bow)\n",
    "df_test['pred_lasso'] = lasso_model.predict(x_test_bow)\n",
    "df_test['pred_mlp'] = mlp_model.predict_classes(x_test_bow)\n",
    "df_test['pred_lstm'] = lstm_model.predict_classes(x_test_seq)\n",
    "df_test['pred_gru'] = gru_model.predict_classes(x_test_seq)\n",
    "df_test['pred_conv'] = conv_model.predict_classes(x_test_seq)\n",
    "print(df_test.head())\n",
    "\n",
    "df_test.to_excel(os.path.join(output_dir,'df_test.xlsx'))"
   ]
  },
  {
   "cell_type": "markdown",
   "metadata": {},
   "source": [
    "### 4E. Save data frame test set"
   ]
  },
  {
   "cell_type": "code",
   "execution_count": null,
   "metadata": {},
   "outputs": [],
   "source": [
    "import os\n",
    "\n",
    "input_dir = ### Insert directory for dataframe with predicted values ###\n",
    "df_test = read_excel(os.path.join(input_dir, 'df_test.xlsx'))\n",
    "df_test.head(2)"
   ]
  },
  {
   "cell_type": "markdown",
   "metadata": {},
   "source": [
    "### 4F. Get AUC with 95%-CI"
   ]
  },
  {
   "cell_type": "code",
   "execution_count": null,
   "metadata": {},
   "outputs": [],
   "source": [
    "import numpy as np\n",
    "from scipy.stats import sem\n",
    "from sklearn.metrics import roc_auc_score\n",
    "\n",
    "y_true = np.array(df_test[['Group']])\n",
    "\n",
    "def get_ci_auc(y_pred):\n",
    "\n",
    "    n_bootstraps = 1000\n",
    "    rng_seed = 42  # control reproducibility\n",
    "    bootstrapped_scores = []\n",
    "\n",
    "    rng = np.random.RandomState(rng_seed)\n",
    "\n",
    "    for i in range(n_bootstraps):\n",
    "        # bootstrap by sampling with replacement on the prediction indices\n",
    "        indices = rng.random_integers(0, len(y_pred) - 1, len(y_pred))\n",
    "        if len(np.unique(y_true[indices])) < 2:\n",
    "            # We need at least one positive and one negative sample for ROC AUC\n",
    "            # to be defined: reject the sample\n",
    "            continue\n",
    "\n",
    "        score = roc_auc_score(y_true[indices], y_pred[indices])\n",
    "        bootstrapped_scores.append(score)\n",
    "    \n",
    "    bootstrapped_scores\n",
    "    sorted_scores = np.array(bootstrapped_scores)\n",
    "    sorted_scores.sort()\n",
    "    \n",
    "    confidence_lower = sorted_scores[int(0.05 * len(sorted_scores))]\n",
    "    confidence_upper = sorted_scores[int(0.95 * len(sorted_scores))]\n",
    "    auc = roc_auc_score(y_true, y_pred)\n",
    "    return auc, confidence_lower, confidence_upper\n",
    "\n",
    "auc_conv, auc_low_conv, auc_high_conv = get_ci_auc(np.array(df_test[['prob_conv']])) \n",
    "auc_lasso, auc_low_lasso, auc_high_lasso = get_ci_auc(np.array(df_test[['prob_lasso']]))\n",
    "auc_lstm, auc_low_lstm, auc_high_lstm = get_ci_auc(np.array(df_test[['prob_lstm']])) \n",
    "auc_gru, auc_low_gru, auc_high_gru = get_ci_auc(np.array(df_test[['prob_gru']])) \n",
    "auc_lr, auc_low_lr, auc_high_lr = get_ci_auc(np.array(df_test[['prob_lr']]))  \n",
    "auc_mlp, auc_low_mlp, auc_high_mlp = get_ci_auc(np.array(df_test[['prob_mlp']]))"
   ]
  },
  {
   "cell_type": "markdown",
   "metadata": {},
   "source": [
    "### 4G. Get CA with 95%-CI"
   ]
  },
  {
   "cell_type": "code",
   "execution_count": null,
   "metadata": {},
   "outputs": [],
   "source": [
    "from sklearn import metrics\n",
    "from pandas import *\n",
    "\n",
    "y_true = np.array(df_test[['Group']])\n",
    "\n",
    "def get_ci_ca(y_pred):\n",
    "\n",
    "    n_bootstraps = 1000\n",
    "    rng_seed = 42  \n",
    "    bootstrapped_scores = []\n",
    "\n",
    "    rng = np.random.RandomState(rng_seed)\n",
    "\n",
    "    for i in range(n_bootstraps):\n",
    "        indices = rng.random_integers(0, len(y_pred) - 1, len(y_pred))\n",
    "        if len(np.unique(y_true[indices])) < 2:\n",
    "            continue\n",
    "\n",
    "        score = metrics.accuracy_score(y_true[indices], y_pred[indices])*100\n",
    "        bootstrapped_scores.append(score)\n",
    "    \n",
    "    bootstrapped_scores\n",
    "    sorted_scores = np.array(bootstrapped_scores)\n",
    "    sorted_scores.sort()\n",
    "    \n",
    "    confidence_lower = sorted_scores[int(0.05 * len(sorted_scores))]\n",
    "    confidence_upper = sorted_scores[int(0.95 * len(sorted_scores))]\n",
    "    ca = metrics.accuracy_score(y_true, y_pred)\n",
    "    return ca, confidence_lower, confidence_upper\n",
    "\n",
    "ca_lasso, ca_low_lasso, ca_high_lasso = get_ci_ca(np.array(df_test[['pred_lasso']]))\n",
    "ca_conv, ca_low_conv, ca_high_conv = get_ci_ca(np.array(df_test[['pred_conv']])) \n",
    "ca_lstm, ca_low_lstm, ca_high_lstm = get_ci_ca(np.array(df_test[['pred_lstm']])) \n",
    "ca_gru, ca_low_gru, ca_high_gru = get_ci_ca(np.array(df_test[['pred_gru']])) \n",
    "ca_lr, ca_low_lr, ca_high_lr = get_ci_ca(np.array(df_test[['pred_lr']])) \n",
    "ca_mlp, ca_low_mlp, ca_high_mlp = get_ci_ca(np.array(df_test[['pred_mlp']]))"
   ]
  },
  {
   "cell_type": "markdown",
   "metadata": {},
   "source": [
    "### 4H. Create Dataframe with performance metrics"
   ]
  },
  {
   "cell_type": "code",
   "execution_count": 10,
   "metadata": {},
   "outputs": [
    {
     "data": {
      "text/html": [
       "<div>\n",
       "<style scoped>\n",
       "    .dataframe tbody tr th:only-of-type {\n",
       "        vertical-align: middle;\n",
       "    }\n",
       "\n",
       "    .dataframe tbody tr th {\n",
       "        vertical-align: top;\n",
       "    }\n",
       "\n",
       "    .dataframe thead th {\n",
       "        text-align: right;\n",
       "    }\n",
       "</style>\n",
       "<table border=\"1\" class=\"dataframe\">\n",
       "  <thead>\n",
       "    <tr style=\"text-align: right;\">\n",
       "      <th></th>\n",
       "      <th>Model</th>\n",
       "      <th>AUC</th>\n",
       "      <th>AUC_low</th>\n",
       "      <th>AUC_high</th>\n",
       "      <th>CA</th>\n",
       "      <th>CA_low</th>\n",
       "      <th>CA_high</th>\n",
       "    </tr>\n",
       "  </thead>\n",
       "  <tbody>\n",
       "    <tr>\n",
       "      <th>1</th>\n",
       "      <td>Conv1D</td>\n",
       "      <td>0.925857</td>\n",
       "      <td>0.900161</td>\n",
       "      <td>0.949505</td>\n",
       "      <td>0.846667</td>\n",
       "      <td>81.333333</td>\n",
       "      <td>88.333333</td>\n",
       "    </tr>\n",
       "    <tr>\n",
       "      <th>0</th>\n",
       "      <td>Lasso Regression</td>\n",
       "      <td>0.921078</td>\n",
       "      <td>0.893669</td>\n",
       "      <td>0.944888</td>\n",
       "      <td>0.830000</td>\n",
       "      <td>79.666667</td>\n",
       "      <td>86.666667</td>\n",
       "    </tr>\n",
       "    <tr>\n",
       "      <th>2</th>\n",
       "      <td>LSTM</td>\n",
       "      <td>0.910609</td>\n",
       "      <td>0.880503</td>\n",
       "      <td>0.938716</td>\n",
       "      <td>0.873333</td>\n",
       "      <td>84.333333</td>\n",
       "      <td>90.333333</td>\n",
       "    </tr>\n",
       "    <tr>\n",
       "      <th>5</th>\n",
       "      <td>GRU</td>\n",
       "      <td>0.905512</td>\n",
       "      <td>0.875664</td>\n",
       "      <td>0.933594</td>\n",
       "      <td>0.856667</td>\n",
       "      <td>82.333333</td>\n",
       "      <td>89.000000</td>\n",
       "    </tr>\n",
       "    <tr>\n",
       "      <th>3</th>\n",
       "      <td>Logistic Regression</td>\n",
       "      <td>0.884439</td>\n",
       "      <td>0.853443</td>\n",
       "      <td>0.915213</td>\n",
       "      <td>0.640000</td>\n",
       "      <td>59.666667</td>\n",
       "      <td>68.333333</td>\n",
       "    </tr>\n",
       "    <tr>\n",
       "      <th>4</th>\n",
       "      <td>MLP</td>\n",
       "      <td>0.870557</td>\n",
       "      <td>0.836439</td>\n",
       "      <td>0.903227</td>\n",
       "      <td>0.796667</td>\n",
       "      <td>76.000000</td>\n",
       "      <td>83.333333</td>\n",
       "    </tr>\n",
       "  </tbody>\n",
       "</table>\n",
       "</div>"
      ],
      "text/plain": [
       "                 Model       AUC   AUC_low  AUC_high        CA     CA_low  \\\n",
       "1               Conv1D  0.925857  0.900161  0.949505  0.846667  81.333333   \n",
       "0     Lasso Regression  0.921078  0.893669  0.944888  0.830000  79.666667   \n",
       "2                 LSTM  0.910609  0.880503  0.938716  0.873333  84.333333   \n",
       "5                  GRU  0.905512  0.875664  0.933594  0.856667  82.333333   \n",
       "3  Logistic Regression  0.884439  0.853443  0.915213  0.640000  59.666667   \n",
       "4                  MLP  0.870557  0.836439  0.903227  0.796667  76.000000   \n",
       "\n",
       "     CA_high  \n",
       "1  88.333333  \n",
       "0  86.666667  \n",
       "2  90.333333  \n",
       "5  89.000000  \n",
       "3  68.333333  \n",
       "4  83.333333  "
      ]
     },
     "execution_count": 10,
     "metadata": {},
     "output_type": "execute_result"
    }
   ],
   "source": [
    "import pandas as pd\n",
    "\n",
    "dict_metrics = {'Model': ['Lasso Regression', 'Conv1D', 'LSTM', 'Logistic Regression', 'MLP', 'GRU'], \n",
    "     'AUC': [auc_lasso, auc_conv, auc_lstm, auc_lr, auc_mlp, auc_gru],\n",
    "     'AUC_low': [auc_low_lasso, auc_low_conv, auc_low_lstm, auc_low_lr, auc_low_mlp, auc_low_gru],\n",
    "     'AUC_high': [auc_high_lasso, auc_high_conv, auc_high_lstm, auc_high_lr, auc_high_mlp, auc_high_gru],\n",
    "     'CA' : [ca_lasso, ca_conv, ca_lstm, ca_lr, ca_mlp, ca_gru],\n",
    "     'CA_low' : [ca_low_lasso, ca_low_conv, ca_low_lstm, ca_low_lr, ca_low_mlp, ca_low_gru],\n",
    "     'CA_high' : [ca_high_lasso, ca_high_conv, ca_high_lstm, ca_high_lr, ca_high_mlp, ca_high_gru]}\n",
    "df_metrics = pd.DataFrame(data=dict_metrics)\n",
    "\n",
    "cols = ['Model', 'AUC','AUC_low','AUC_high','CA', 'CA_low','CA_high']\n",
    "df_metrics = df_metrics[cols]\n",
    "\n",
    "output_dir = ### Insert directory for dataframe with performance metrics ###\n",
    "\n",
    "df_metrics.to_excel(os.path.join(output_dir,'df_metrics.xlsx'))\n",
    "df_metrics.sort_values(by=['AUC'], ascending = False)"
   ]
  },
  {
   "cell_type": "markdown",
   "metadata": {},
   "source": [
    "### 4I. Create ROC curve"
   ]
  },
  {
   "cell_type": "code",
   "execution_count": 20,
   "metadata": {},
   "outputs": [
    {
     "data": {
      "image/png": "[encoded data removed]",
      "text/plain": [
       "<matplotlib.figure.Figure at 0x1a33029c88>"
      ]
     },
     "metadata": {},
     "output_type": "display_data"
    }
   ],
   "source": [
    "import matplotlib.pyplot as plt\n",
    "import matplotlib\n",
    "from sklearn import metrics\n",
    "from pandas import *\n",
    "\n",
    "y_true = df_test['Group']\n",
    "\n",
    "matplotlib.rcParams.update({'font.size': 12})\n",
    "\n",
    "fpr_conv, tpr_conv, thresholds = metrics.roc_curve(y_true, df_test['prob_conv'], pos_label=1)\n",
    "fpr_lasso, tpr_lasso, thresholds = metrics.roc_curve(y_true, df_test['prob_lasso'], pos_label=1)\n",
    "fpr_lstm, tpr_lstm, thresholds = metrics.roc_curve(y_true, df_test['prob_lstm'], pos_label=1)\n",
    "fpr_mlp, tpr_mlp, thresholds = metrics.roc_curve(y_true, df_test['prob_mlp'], pos_label=1)\n",
    "fpr_gru, tpr_gru, thresholds = metrics.roc_curve(y_true, df_test['prob_gru'], pos_label=1)\n",
    "fpr_lr, tpr_lr, thresholds = metrics.roc_curve(y_true, df_test['prob_lr'], pos_label=1)\n",
    "\n",
    "plt.figure(figsize=(8, 8)).clf()\n",
    "plt.plot(fpr_conv,tpr_conv,label=\"Conv1D, AUC=\"+str(round(auc_conv,2)), color = '#0073C299')\n",
    "plt.plot(fpr_lasso,tpr_lasso,label=\"LASSO regression, AUC=\"+str(round(auc_lasso, 2)), color = '#EFC00099')\n",
    "plt.plot(fpr_lstm,tpr_lstm,label=\"LSTM, AUC=\"+str(round(auc_lstm,2)), color = '#86868699')\n",
    "plt.plot(fpr_gru,tpr_gru,label=\"GRU, AUC=\"+str(round(auc_gru, 2)), color = '#CD534C99')\n",
    "plt.plot(fpr_lr,tpr_lr,label=\"Logistic regression, AUC=\"+str(round(auc_lr,2)), color = '#7AA6DC99')\n",
    "plt.plot(fpr_mlp,tpr_mlp,label=\"MLP, AUC=\"+str(round(auc_mlp,2)), color = '#003C6799')\n",
    "plt.xlabel('False Positive Rate')\n",
    "plt.ylabel('True Positive Rate')\n",
    "plt.legend(loc=0)\n",
    "\n",
    "path_figure_output = ### Insert directory for figures ###\n",
    "plt.savefig(os.path.join(path_figure_output,'ROC curves.png'), dpi = 300)\n",
    "plt.savefig('ROC_curves.eps', format = 'eps', dpi = 1000)"
   ]
  },
  {
   "cell_type": "markdown",
   "metadata": {},
   "source": [
    "### 4J. Create Calibration Plot"
   ]
  },
  {
   "cell_type": "code",
   "execution_count": 21,
   "metadata": {},
   "outputs": [
    {
     "data": {
      "image/png": "[encoded data removed]",
      "text/plain": [
       "<matplotlib.figure.Figure at 0x1a3316efd0>"
      ]
     },
     "metadata": {},
     "output_type": "display_data"
    }
   ],
   "source": [
    "import matplotlib.pyplot as plt\n",
    "import matplotlib\n",
    "import os\n",
    "from sklearn import metrics\n",
    "from sklearn.calibration import calibration_curve\n",
    "from pandas import *\n",
    "\n",
    "\n",
    "plt.figure(figsize=(9, 9))\n",
    "ax1 = plt.subplot2grid((3, 1), (0, 0), rowspan=2)\n",
    "ax2 = plt.subplot2grid((3, 1), (2, 0))\n",
    "\n",
    "ax1.plot([0, 1], [0, 1], \"k:\", label=\"Perfectly calibrated\")\n",
    "\n",
    "matplotlib.rcParams.update({'font.size': 12})\n",
    "\n",
    "y_true = np.array(df_test['Group'])\n",
    "prob_conv = np.array(df_test['prob_conv'])\n",
    "prob_lasso = np.array(df_test['prob_lasso'])\n",
    "prob_lstm = np.array(df_test['prob_lstm'])\n",
    "prob_gru= np.array(df_test['prob_gru'])\n",
    "prob_lr = np.array(df_test['prob_lr'])\n",
    "prob_mlp = np.array(df_test['prob_mlp'])\n",
    "\n",
    "for probs, name, color in [(prob_conv, 'Conv1D', '#0073C299'),\n",
    "                    (prob_lasso, 'LASSO regression', '#EFC00099'),\n",
    "                    (prob_lstm, 'LSTM', '#86868699'),\n",
    "                    (prob_gru, 'GRU','#CD534C99'),\n",
    "                    (prob_lr, 'Logistic regression','#7AA6DC99'),\n",
    "                    (prob_mlp,'MLP','#8F770099')]:\n",
    "    fraction_of_positives, mean_predicted_value = calibration_curve(y_true, probs, n_bins=4)\n",
    "    ax1.plot(mean_predicted_value, fraction_of_positives, \"s-\",label=\"%s\" % (name, ), color = color)\n",
    "    ax2.hist(probs, range=(0, 1), bins=4, label=name,histtype=\"step\", lw=2, color = color)\n",
    "\n",
    "ax1.set_ylabel(\"Fraction of positives\")\n",
    "ax1.set_ylim([-0.05, 1.05])\n",
    "ax1.legend(loc=\"lower right\")\n",
    "ax1.set_title('Calibration plots  (reliability curve)')\n",
    "\n",
    "ax2.set_xlabel(\"Mean predicted value\")\n",
    "ax2.set_ylabel(\"Count\")\n",
    "ax2.legend(loc=\"upper left\", ncol=2)\n",
    "\n",
    "plt.tight_layout()\n",
    "\n",
    "path_figure_output = ### Insert directory for figures ###\n",
    "\n",
    "plt.savefig(os.path.join(path_figure_output, 'Calibration Plot.png'), dpi = 300)\n",
    "plt.savefig('Calibration_Plot.eps', format = 'eps', dpi = 1000)"
   ]
  }
 ],
 "metadata": {
  "kernelspec": {
   "display_name": "Python 3",
   "language": "python",
   "name": "python3"
  },
  "language_info": {
   "codemirror_mode": {
    "name": "ipython",
    "version": 3
   },
   "file_extension": ".py",
   "mimetype": "text/x-python",
   "name": "python",
   "nbconvert_exporter": "python",
   "pygments_lexer": "ipython3",
   "version": "3.6.4"
  }
 },
 "nbformat": 4,
 "nbformat_minor": 2
}
